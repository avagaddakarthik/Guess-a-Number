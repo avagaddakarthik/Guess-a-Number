{
  "nbformat": 4,
  "nbformat_minor": 0,
  "metadata": {
    "colab": {
      "provenance": [],
      "toc_visible": true,
      "authorship_tag": "ABX9TyPd6WnJWPP+uAM8wMx74o76",
      "include_colab_link": true
    },
    "kernelspec": {
      "name": "python3",
      "display_name": "Python 3"
    },
    "language_info": {
      "name": "python"
    }
  },
  "cells": [
    {
      "cell_type": "markdown",
      "metadata": {
        "id": "view-in-github",
        "colab_type": "text"
      },
      "source": [
        "<a href=\"https://colab.research.google.com/github/avagaddakarthik/Guess-a-Number/blob/main/Untitled6.ipynb\" target=\"_parent\"><img src=\"https://colab.research.google.com/assets/colab-badge.svg\" alt=\"Open In Colab\"/></a>"
      ]
    },
    {
      "cell_type": "code",
      "execution_count": 2,
      "metadata": {
        "colab": {
          "base_uri": "https://localhost:8080/"
        },
        "id": "jJjY1sWvIw14",
        "outputId": "0ed8b202-b611-4748-beeb-43f935b00d6b"
      },
      "outputs": [
        {
          "output_type": "stream",
          "name": "stdout",
          "text": [
            "Welcome to Guess the Number!\n",
            "I am thinking of a number between 1 and 100.\n",
            "Enter your guess: 78\n",
            "Too low!\n",
            "Enter your guess: 45\n",
            "Too low!\n",
            "Enter your guess: 80\n",
            "Congratulations! You've guessed the number in 3 attempts.\n"
          ]
        }
      ],
      "source": [
        "import random\n",
        "\n",
        "def guess_the_number():\n",
        "    print(\"Welcome to Guess the Number!\")\n",
        "    print(\"I am thinking of a number between 1 and 100.\")\n",
        "\n",
        "    # Generate a random number between 1 and 100\n",
        "    number_to_guess = random.randint(1, 100)\n",
        "    number_of_attempts = 0\n",
        "    guessed_correctly = False\n",
        "\n",
        "    while not guessed_correctly:\n",
        "        # Get the player's guess\n",
        "        guess = input(\"Enter your guess: \")\n",
        "\n",
        "        # Ensure the input is an integer\n",
        "        try:\n",
        "            guess = int(guess)\n",
        "        except ValueError:\n",
        "            print(\"Please enter a valid number.\")\n",
        "            continue  # If the input is not valid, ask for a guess again\n",
        "\n",
        "        number_of_attempts += 1\n",
        "\n",
        "        # Compare the guess with the number\n",
        "        if guess < number_to_guess:\n",
        "            print(\"Too low!\")\n",
        "        elif guess > number_to_guess:\n",
        "            print(\"Too high!\")\n",
        "        else:\n",
        "            guessed_correctly = True\n",
        "            print(f\"Congratulations! You've guessed the number in {number_of_attempts} attempts.\")\n",
        "\n",
        "# Run the game\n",
        "guess_the_number()\n"
      ]
    }
  ]
}